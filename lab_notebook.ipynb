{
 "cells": [
  {
   "cell_type": "markdown",
   "id": "2877105c-f6bc-45dc-b9f8-b48ca8cc78fb",
   "metadata": {},
   "source": [
    "# **Brain Polycomb project lab notebook**"
   ]
  },
  {
   "cell_type": "markdown",
   "id": "57a4c200-da62-4af5-acc8-d7bdcbed3ec8",
   "metadata": {},
   "source": [
    "## Links:\n",
    "\n",
    "- **Telegram chat**: `https://web.telegram.org/a/#-4738561813`\n",
    "- **Github repo**: `https://github.com/Ivan-chich/VAU1-Brain-Polycomb-ncRNA-2025`\n",
    "- **Kanban board**: `https://app.holst.so/share/b/8b0c40b1-920a-461f-83ad-9014988b04e6`\n",
    "- **Shared materials folder**: `https://msuru-my.sharepoint.com/:f:/g/personal/i_v_chicherin_g_lecturer_msu_ru/ErGoHKfAJ9FIq5EO8DY3Z_YBtj9RGZTYBWhUgU6FtfvR3Q`"
   ]
  },
  {
   "cell_type": "markdown",
   "id": "62c324db-af81-4693-b224-e6032211f053",
   "metadata": {},
   "source": [
    "# **Introduction**"
   ]
  },
  {
   "cell_type": "markdown",
   "id": "1fe4b8be-5b28-4659-b051-c66975fdd89e",
   "metadata": {},
   "source": [
    "*Date: 30.01.2025*"
   ]
  },
  {
   "cell_type": "markdown",
   "id": "99c8e84b-04f6-4e07-8686-2e5ad40ef48b",
   "metadata": {},
   "source": [
    "We start with the paper:\n",
    "\n",
    "Pletenev, I. A., Bazarevich, M., Zagirova, D. R., Kononkova, A. D., Cherkasov, A. V., Efimova, O. I., Tiukacheva, E. A., Morozov, K. V., Ulianov, K. A., Komkov, D., Tvorogova, A. V., Golimbet, V. E., Kondratyev, N. V., Razin, S. V., Khaitovich, P., Ulianov, S. V., & Khrameeva, E. E. (2024). Extensive long-range polycomb interactions and weak compartmentalization are hallmarks of human neuronal 3D genome. Nucleic acids research, 52(11), 6234–6252. https://doi.org/10.1093/nar/gkae271\n",
    "\n",
    "Particularly we are focused on the *neuron-specific dots* summarized in `polycomb_dots_hand_coords_update.tsv`. It contains all gene contacts annotated in these dots."
   ]
  },
  {
   "cell_type": "markdown",
   "id": "a3578ab8-2375-4496-b595-711901bd2751",
   "metadata": {},
   "source": [
    "# **Plan:**\n",
    "\n",
    "1. Extract **gene set** from starting dataset\n",
    "2. Extract all transcription factors (**TF set**)\n",
    "3. Annotate target genes for all TFs (**Target set**)\n",
    "4. Build **GO enrichment** plots for target genes\n",
    "5. Analyse **co-expression** for TF set and Target set"
   ]
  },
  {
   "cell_type": "markdown",
   "id": "b15e4e4d-4116-437d-b7ea-5f77985d4ba4",
   "metadata": {},
   "source": [
    "# 1. **Building total gene set**"
   ]
  },
  {
   "cell_type": "markdown",
   "id": "b8c3fa6f-6153-4d73-afb1-d1a74ce8d16a",
   "metadata": {},
   "source": [
    "*Date: 11.02.2025*"
   ]
  },
  {
   "cell_type": "markdown",
   "id": "8934f03f-625f-42b5-a5d4-e6485bf3806d",
   "metadata": {},
   "source": [
    "- `polycomb_dots_hand_coords_update.tsv` was viewed in Rstudio\n",
    "- `parce_tsv.py` script was used to build gene set\n",
    "- Total number of genes: 482\n",
    "- Save result as **polycomb gene_list**"
   ]
  },
  {
   "cell_type": "markdown",
   "id": "0db5811d-922b-4e24-86a5-9d1885660e55",
   "metadata": {},
   "source": [
    "# 2. **Building TF gene subsetset**"
   ]
  },
  {
   "cell_type": "markdown",
   "id": "c841dad9-6029-472a-891c-67f50da3048b",
   "metadata": {},
   "source": [
    "*Date: 19.02.2025*"
   ]
  },
  {
   "cell_type": "markdown",
   "id": "dbdd1212-a326-42d0-850a-45b22d056234",
   "metadata": {},
   "source": [
    "### We solve this task with **GO annotations**\n",
    "\n",
    "1. Visit https://go.princeton.edu/\n",
    "\n",
    "2. Follow **Generic GO Term Finder**\n",
    "\n",
    "3. Upload `polycomb gene_list` from previous step\n",
    "\n",
    "4. Choose options:\n",
    "\n",
    "    - Ontology Aspects: Function\n",
    "    - Choose annotation: GOA + HGNC Xrefs - H. sapiens (Human)\n",
    "    - Choose Your Output Format: HTML table + GO tree view images\n",
    "\n",
    "5. Run GO terms annotation\n",
    "\n",
    "6. Save results in **GO_annotations/GO_term_finder** folder\n",
    "\n",
    "7. Follow **Generic GO Term Mapper**\n",
    "\n",
    "8. Choose options:\n",
    "\n",
    "    - Ontology Aspects: Function\n",
    "    - Organism: Homo sapiens (GOA @EBI + Ensembl)\n",
    "    - Choose Your Output Format: HTML table\n",
    "\n",
    "8. Run GO terms annotation\n",
    "\n",
    "9. Save results in **GO_annotations/GO_term_mapper** folder\n",
    "\n",
    "10. Run `GOtermsFinderFunction.py` script to select wanted GO terms\n",
    "\n",
    "11. Results are saved as `GO_TF_set.txt`\n",
    "\n",
    "### 197 genes were annotated as TFs with GO terms “DNA binding” and “transcription factor activity”"
   ]
  },
  {
   "cell_type": "markdown",
   "id": "85954f0a-0a2a-4fa5-a84f-b202f7429ef2",
   "metadata": {},
   "source": [
    "# 3. **Building TF Partner gene set**\n",
    "\n",
    "### Options:\n",
    "\n",
    "- UniProt https://www.uniprot.org\n",
    "- BioGRID https://thebiogrid.org\n",
    "- STRING https://string-db.org\n",
    "- KEGG https://www.kegg.jp\n",
    "- NCBI https://ncbi.nlm.nih.gov/gene\n",
    "\n",
    "### More options:\n",
    "\n",
    "- TRANSFAC: https://genexplain.com/transfac-product/\n",
    "- ChIP-Atlas: https://chip-atlas.org/\n",
    "- Ensembl: https://www.ensembl.org/index.html\n",
    "- GeneCards: https://www.genecards.org/\n",
    "- GTEX: https://www.gtexportal.org/home/multiGeneQueryPage\n",
    "\n",
    "### Bioconductor R packages:\n",
    "\n",
    "- CoRegNet http://bioconductor.riken.jp/packages/3.1/bioc/html/CoRegNet.html\n",
    "- FGNet https://bioconductor.org/packages/release/bioc/html/FGNet.html\n",
    "\n",
    "**Discussion on this topic:** https://www.biostars.org/p/2148/\n",
    "\n",
    "### **TFTenricher**: doesn't work\n",
    "\n",
    "- Guide: https://github.com/rasma774/Tftenricher\n",
    "- This script is not functional: I could not build proper environment for it.\n",
    "\n",
    "### **Tftargets**: this is our choice\n",
    "\n",
    "1. Run `GOtermsFinderFunction.py`. Read comments! It gives TF list\n",
    "\n",
    "2. Apply printed TF list in `rtargets.R`\n",
    "\n",
    "3. Run `rtargets.R` script. Read comments! It gives TF target list. Do not clear global environment in Rstudio: data will be required in the next script!\n",
    "\n",
    "4. Target set is saved in `tf_targets.csv`\n",
    "\n",
    "### 664 target genes were found with “Tftarget”"
   ]
  },
  {
   "cell_type": "markdown",
   "id": "afafe1c3-d23c-48df-8ce7-4a7cbc9296d6",
   "metadata": {},
   "source": [
    "# 4. **GO enrichment graphs**"
   ]
  },
  {
   "cell_type": "markdown",
   "id": "cbfe1e02-dd68-4e77-a6a9-6480bc426c25",
   "metadata": {},
   "source": [
    "Run `go_enrichment.R` script"
   ]
  },
  {
   "cell_type": "markdown",
   "id": "4240f7a3-0e67-4498-99f4-c0dd91683be4",
   "metadata": {},
   "source": [
    "## 4.1. Biological process"
   ]
  },
  {
   "cell_type": "markdown",
   "id": "dd87341a-8ecb-4bce-90de-1ec3ed499ff7",
   "metadata": {},
   "source": [
    "![alt text](../data/GO_bar_BP.png \"GO_BP\")"
   ]
  },
  {
   "cell_type": "markdown",
   "id": "1c2627a2-39b6-4c48-bd59-a5d06a47efd2",
   "metadata": {},
   "source": [
    "## 4.2 Subcellular localization"
   ]
  },
  {
   "cell_type": "markdown",
   "id": "32f4e1fd-3624-4970-9cea-eb38317ee86d",
   "metadata": {},
   "source": [
    "![alt text](../data/GO_bar_CC.png \"GO_CC\")"
   ]
  },
  {
   "cell_type": "markdown",
   "id": "ab522f77-5573-4abe-a0fa-5e8a9f9d127a",
   "metadata": {},
   "source": [
    "## 4.3. Molacular function"
   ]
  },
  {
   "cell_type": "markdown",
   "id": "3daad646-b87e-4d7d-9d2f-10b930789a88",
   "metadata": {},
   "source": [
    "![alt text](../data/GO_bar_MF.png \"GO_MF\")"
   ]
  },
  {
   "cell_type": "markdown",
   "id": "8dfd6ed3-c455-44cc-a48a-bf338d4d92e4",
   "metadata": {},
   "source": [
    "# 5. Coexpression of Polycomb-regulated genes"
   ]
  },
  {
   "cell_type": "markdown",
   "id": "29f01af2-6237-49a4-b4f6-548444bd619e",
   "metadata": {},
   "source": [
    "- t-SNE and UMAP data: `PcG_coexpression.ipynb`\n",
    "- coexpression: `CS_CORE_PcG.ipynb`"
   ]
  }
 ],
 "metadata": {
  "kernelspec": {
   "display_name": "Python 3 (ipykernel)",
   "language": "python",
   "name": "python3"
  },
  "language_info": {
   "codemirror_mode": {
    "name": "ipython",
    "version": 3
   },
   "file_extension": ".py",
   "mimetype": "text/x-python",
   "name": "python",
   "nbconvert_exporter": "python",
   "pygments_lexer": "ipython3",
   "version": "3.13.0"
  }
 },
 "nbformat": 4,
 "nbformat_minor": 5
}
